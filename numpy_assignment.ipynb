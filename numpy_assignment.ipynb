{
 "cells": [
  {
   "cell_type": "markdown",
   "id": "a4d4ceb2-964e-4a7f-ba47-108a7054dbc9",
   "metadata": {},
   "source": [
    "# NUMPY ASSIGNMENT"
   ]
  },
  {
   "cell_type": "markdown",
   "id": "195e05e4-a15e-4ff8-aa93-65aaf14775e1",
   "metadata": {},
   "source": [
    "## 1. What is a Python library? Why ^o we use Python libraries?"
   ]
  },
  {
   "cell_type": "code",
   "execution_count": 1,
   "id": "bf9e892b-5ff4-4d9d-a729-6a8defa0ddd9",
   "metadata": {},
   "outputs": [],
   "source": [
    "\n",
    "# A library is a collection of code that makes everyday tasks more efficient. Using Seaborn, for example, you can generate visualisations\n",
    "# with just one line of code. To create a chart from an object, you’d have to write a lot of code without a library like this. Python is a popular\n",
    "# choice for data analysis because of its extensive library of tools for manipulating, visualising, and training machine learning models."
   ]
  },
  {
   "cell_type": "markdown",
   "id": "310d5a8c-2b5b-49cb-aeed-ece27d7beebb",
   "metadata": {},
   "source": [
    "## 2. What is the ^ifference between Numpy array an^ List?"
   ]
  },
  {
   "cell_type": "code",
   "execution_count": 2,
   "id": "f1bccdaf-8966-4b80-ad81-e7fd00b5bbe1",
   "metadata": {},
   "outputs": [],
   "source": [
    "#1. one main difference between array and list is that lists can containg heterogenous data whereas the numpy array is a homogenous structure...\n",
    "#2. since arrays are homogenous thats why all the calculations related to maths are fast in compare to lists.\n",
    "#3. one major difference between them is memory allocation.\n"
   ]
  },
  {
   "cell_type": "markdown",
   "id": "67a8513a-278f-43bf-8f38-cbf2a4cbeed1",
   "metadata": {},
   "source": [
    "## 3. Fin^ the shape, size an^ ^imension of the following array?\n",
    "### [[1, 2, 3, 4]\n",
    "### [5, 6, 7, 8],\n",
    "### [9, 10, 11, 12]]"
   ]
  },
  {
   "cell_type": "code",
   "execution_count": 4,
   "id": "9fdf5ec1-36fd-4004-b553-a85aa3d52e54",
   "metadata": {},
   "outputs": [
    {
     "data": {
      "text/plain": [
       "2"
      ]
     },
     "execution_count": 4,
     "metadata": {},
     "output_type": "execute_result"
    }
   ],
   "source": [
    "import numpy as np\n",
    "arr = np.array([[1, 2, 3, 4],[5, 6, 7, 8],[9, 10, 11, 12]])\n",
    "\n",
    "#shape of array\n",
    "arr.shape\n",
    "\n",
    "# size\n",
    "arr.size\n",
    "\n",
    "# dimension:\n",
    "arr.ndim"
   ]
  },
  {
   "cell_type": "markdown",
   "id": "bbaf4a6e-99b6-4ad7-8fc0-bdf339717c3c",
   "metadata": {},
   "source": [
    "# 4. Write python co^e to access the first row of the following array?\n",
    "### [[1, 2, 3, 4]\n",
    "### [5, 6, 7, 8],\n",
    "### [9, 10, 11, 12]]"
   ]
  },
  {
   "cell_type": "code",
   "execution_count": 5,
   "id": "4088ff11-3098-41db-a8e9-55eeea7821ba",
   "metadata": {},
   "outputs": [
    {
     "data": {
      "text/plain": [
       "array([1, 2, 3, 4])"
      ]
     },
     "execution_count": 5,
     "metadata": {},
     "output_type": "execute_result"
    }
   ],
   "source": [
    "arr = np.array([[1, 2, 3, 4],[5, 6, 7, 8],[9, 10, 11, 12]])\n",
    "arr\n",
    "\n",
    "## accessing first row:\n",
    "arr[0]"
   ]
  },
  {
   "cell_type": "markdown",
   "id": "2d4af7f3-c2dc-46d6-82f1-ebf91be28ed8",
   "metadata": {},
   "source": [
    "## 5. How ^o you access the element at the thir^ row an^ fourth column from the given numpy array?\n",
    "### [[1, 2, 3, 4]\n",
    "### [5, 6, 7, 8],\n",
    "### [9, 10, 11, 12]]"
   ]
  },
  {
   "cell_type": "code",
   "execution_count": 6,
   "id": "51c1fa68-2497-4f5c-87d8-d8a8d2a84462",
   "metadata": {},
   "outputs": [
    {
     "data": {
      "text/plain": [
       "12"
      ]
     },
     "execution_count": 6,
     "metadata": {},
     "output_type": "execute_result"
    }
   ],
   "source": [
    "arr = np.array([[1, 2, 3, 4],[5, 6, 7, 8],[9, 10, 11, 12]])\n",
    "arr\n",
    "\n",
    "arr[2][3]"
   ]
  },
  {
   "cell_type": "markdown",
   "id": "1cff670c-d2ac-44d6-8ad9-d3954447eee7",
   "metadata": {},
   "source": [
    "## 6. Write co^e to extract all o^^-in^exe^ elements from the given numpy array?\n",
    "### [[1, 2, 3, 4]\n",
    "### [5, 6, 7, 8],\n",
    "### [9, 10, 11, 12]]"
   ]
  },
  {
   "cell_type": "markdown",
   "id": "2ee9717a-a115-4a24-b4aa-5e61f06224e6",
   "metadata": {},
   "source": [
    "## 7. How can you generate a ran^om 3x3 matrix with values between 0 an^ 1?"
   ]
  },
  {
   "cell_type": "code",
   "execution_count": 7,
   "id": "c1c1e7fd-19d8-47c1-974b-2031a6f59bd1",
   "metadata": {},
   "outputs": [
    {
     "data": {
      "text/plain": [
       "array([[0.33288038, 0.78600119, 0.26343597],\n",
       "       [0.33688931, 0.94465939, 0.53599526],\n",
       "       [0.35573478, 0.32349893, 0.55985862]])"
      ]
     },
     "execution_count": 7,
     "metadata": {},
     "output_type": "execute_result"
    }
   ],
   "source": [
    "np.random.rand(3,3) # it generates a matrix between 0 and1"
   ]
  },
  {
   "cell_type": "markdown",
   "id": "ff977132-5df0-4c36-a97c-fb96b336b4e0",
   "metadata": {},
   "source": [
    "## 8. Describe the ^ifference between np.ran^om.ran^ an^ np.ran^om.ran^n?"
   ]
  },
  {
   "cell_type": "code",
   "execution_count": 8,
   "id": "567bfdc9-cbd1-4534-830a-a77036e1e4b0",
   "metadata": {},
   "outputs": [],
   "source": [
    "# the main difference between both of them is that np.random.rand() will only genrate\n",
    "# the random values between 0 and 1(excluded) while np.random.randn() will generate all the\n",
    "# float values between 0 and 1 including 1 also."
   ]
  },
  {
   "cell_type": "markdown",
   "id": "21c51bb0-0522-4370-b132-33f9a12875c1",
   "metadata": {},
   "source": [
    "## 9. Write co^e to increase the ^imension of the following array?\n",
    "### [[1, 2, 3, 4]\n",
    "### [5, 6, 7, 8],\n",
    "### [9, 10, 11, 12]]"
   ]
  },
  {
   "cell_type": "code",
   "execution_count": 9,
   "id": "4be6fb70-8a82-4c73-aaf8-d382ec1f1975",
   "metadata": {},
   "outputs": [
    {
     "data": {
      "text/plain": [
       "3"
      ]
     },
     "execution_count": 9,
     "metadata": {},
     "output_type": "execute_result"
    }
   ],
   "source": [
    "arr = np.array([[1, 2, 3, 4],[5, 6, 7, 8],[9, 10, 11, 12]])\n",
    "arr\n",
    "arr.ndim\n",
    "\n",
    "arr1 = np.expand_dims(arr,axis=0)\n",
    "arr1\n",
    "\n",
    "arr1.ndim"
   ]
  },
  {
   "cell_type": "markdown",
   "id": "ce9ee78d-0ed3-40d8-939d-7c7f7255c5cd",
   "metadata": {},
   "source": [
    "## 10. How to transpose the following array in NumPy?\n",
    "### [[1, 2, 3, 4]\n",
    "### [5, 6, 7, 8],\n",
    "### [9, 10, 11, 12]]"
   ]
  },
  {
   "cell_type": "code",
   "execution_count": 10,
   "id": "31e526dd-669b-4aaa-ab4c-0e36ff61ceae",
   "metadata": {},
   "outputs": [
    {
     "data": {
      "text/plain": [
       "array([[ 1,  5,  9],\n",
       "       [ 2,  6, 10],\n",
       "       [ 3,  7, 11],\n",
       "       [ 4,  8, 12]])"
      ]
     },
     "execution_count": 10,
     "metadata": {},
     "output_type": "execute_result"
    }
   ],
   "source": [
    "arr = np.array([[1, 2, 3, 4],[5, 6, 7, 8],[9, 10, 11, 12]])\n",
    "arr\n",
    "\n",
    "a = arr.T # transposing the array:\n",
    "a"
   ]
  },
  {
   "cell_type": "markdown",
   "id": "74b2b4c9-e3df-44d7-905f-2407c5ad095e",
   "metadata": {},
   "source": [
    "## 11. Consi^er the following matrix:\n",
    "### Matrix A2 [[1, 2, 3, 4] [5, 6, 7, 8] [9, 10, 11, 12]]\n",
    "### Matrix B2 [[1, 2, 3, 4] [5, 6, 7, 8], [9, 10, 11, 12]]"
   ]
  },
  {
   "cell_type": "markdown",
   "id": "5e76a74f-b8cc-41bc-8bbb-5a4a9cc97be0",
   "metadata": {},
   "source": [
    "## 12. Which function in Numpy can be use^ to swap the byte or^er of an array?"
   ]
  },
  {
   "cell_type": "markdown",
   "id": "498c74dd-2ddd-4359-980c-ac2dc000686a",
   "metadata": {},
   "source": [
    "## 13. What is the significance of the np.linalg.inv function?"
   ]
  },
  {
   "cell_type": "code",
   "execution_count": 11,
   "id": "8f380c30-c2c4-46fd-a9f3-a04191196bbc",
   "metadata": {},
   "outputs": [],
   "source": [
    "# The NumPy linalg.inv function which can be used to determine the multiplicative inverse of a matrix of order n.\n",
    "# The multiplicative inverse of a matrix is the reciprocal of a regular matrix just like the reciprocal of any other number in arithmetic.\n",
    "# The inverse of a matrix helps us find out unknown variables in a system of linear equations using the matrix method and the formula given below:\n",
    "\n",
    "# AX = B => X = A-1 B\n",
    "\n",
    "# where, A= the coefficient matrix, A-1 is the inverse of the coefficient matrix,\n",
    "# X is the matrix containing the unknown variables and B is the ordinate or determinant matrix"
   ]
  },
  {
   "cell_type": "markdown",
   "id": "c904f016-ca35-439f-a5ac-200050cea4d7",
   "metadata": {},
   "source": [
    "## 14. What ^oes the np.reshape function ^o, an^ how is it use^?"
   ]
  },
  {
   "cell_type": "code",
   "execution_count": null,
   "id": "d97015ef-7b8c-45de-ab05-9abbec2b54e1",
   "metadata": {},
   "outputs": [],
   "source": []
  },
  {
   "cell_type": "code",
   "execution_count": null,
   "id": "b147e5e6-eb3e-4f5e-83c1-84a01093c11d",
   "metadata": {},
   "outputs": [],
   "source": []
  },
  {
   "cell_type": "code",
   "execution_count": null,
   "id": "febc7c8d-526d-435b-a525-762813aa80e1",
   "metadata": {},
   "outputs": [],
   "source": []
  },
  {
   "cell_type": "code",
   "execution_count": null,
   "id": "08575724-a2e1-4190-b750-a6d228aea71e",
   "metadata": {},
   "outputs": [],
   "source": []
  },
  {
   "cell_type": "code",
   "execution_count": null,
   "id": "8029fd32-ab54-4ced-9d87-10ebe402413a",
   "metadata": {},
   "outputs": [],
   "source": []
  },
  {
   "cell_type": "code",
   "execution_count": null,
   "id": "d0a4ace5-b7f8-4981-9466-c0309e0a73cb",
   "metadata": {},
   "outputs": [],
   "source": []
  },
  {
   "cell_type": "code",
   "execution_count": null,
   "id": "a16c2862-4755-4999-a5a4-03209bac03d6",
   "metadata": {},
   "outputs": [],
   "source": []
  },
  {
   "cell_type": "code",
   "execution_count": null,
   "id": "d41a0cc2-94f4-4451-b93b-d0d5ceb3e824",
   "metadata": {},
   "outputs": [],
   "source": []
  },
  {
   "cell_type": "code",
   "execution_count": null,
   "id": "fa23722d-c31a-4556-86fb-87cc944bc8cf",
   "metadata": {},
   "outputs": [],
   "source": []
  },
  {
   "cell_type": "code",
   "execution_count": null,
   "id": "6f1c4998-e39d-4ac9-be43-ca2c4177cb78",
   "metadata": {},
   "outputs": [],
   "source": []
  },
  {
   "cell_type": "code",
   "execution_count": null,
   "id": "df7b2797-61d7-4d92-af4a-dcecd14d38d3",
   "metadata": {},
   "outputs": [],
   "source": []
  },
  {
   "cell_type": "code",
   "execution_count": null,
   "id": "bbff6123-e578-460f-81e3-862a5ae808c6",
   "metadata": {},
   "outputs": [],
   "source": []
  },
  {
   "cell_type": "code",
   "execution_count": null,
   "id": "cb7cfd26-cff9-4492-aa39-3db76f51acd2",
   "metadata": {},
   "outputs": [],
   "source": []
  },
  {
   "cell_type": "code",
   "execution_count": null,
   "id": "67cec103-00d0-4300-a287-ea76dbb618b9",
   "metadata": {},
   "outputs": [],
   "source": []
  },
  {
   "cell_type": "code",
   "execution_count": null,
   "id": "a16c6290-5efa-4750-9be4-4fcd946c834f",
   "metadata": {},
   "outputs": [],
   "source": []
  },
  {
   "cell_type": "code",
   "execution_count": null,
   "id": "cc6d3aea-26a7-4ad7-af60-d5868e4aa0c4",
   "metadata": {},
   "outputs": [],
   "source": []
  },
  {
   "cell_type": "code",
   "execution_count": null,
   "id": "a9e3fecd-c36e-4695-9872-ca3cc6908fc7",
   "metadata": {},
   "outputs": [],
   "source": []
  },
  {
   "cell_type": "code",
   "execution_count": null,
   "id": "ecc2d356-2d5d-483b-ba43-c274ea86bf25",
   "metadata": {},
   "outputs": [],
   "source": []
  },
  {
   "cell_type": "code",
   "execution_count": null,
   "id": "a3cedf1b-48c0-4915-9a10-fba36aacb001",
   "metadata": {},
   "outputs": [],
   "source": []
  },
  {
   "cell_type": "code",
   "execution_count": null,
   "id": "3a1c45d7-b70f-4c3b-81bf-84b3320e9963",
   "metadata": {},
   "outputs": [],
   "source": []
  }
 ],
 "metadata": {
  "kernelspec": {
   "display_name": "Python 3 (ipykernel)",
   "language": "python",
   "name": "python3"
  },
  "language_info": {
   "codemirror_mode": {
    "name": "ipython",
    "version": 3
   },
   "file_extension": ".py",
   "mimetype": "text/x-python",
   "name": "python",
   "nbconvert_exporter": "python",
   "pygments_lexer": "ipython3",
   "version": "3.10.8"
  }
 },
 "nbformat": 4,
 "nbformat_minor": 5
}
